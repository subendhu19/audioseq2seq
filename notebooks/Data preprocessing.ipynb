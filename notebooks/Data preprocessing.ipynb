{
 "cells": [
  {
   "cell_type": "code",
   "execution_count": 4,
   "metadata": {},
   "outputs": [],
   "source": [
    "import soundfile as sf\n",
    "import numpy as np\n",
    "from python_speech_features import mfcc\n",
    "\n",
    "def compute_mfcc(audio_data, sample_rate):\n",
    "    audio_data = audio_data - np.mean(audio_data)\n",
    "    audio_data = audio_data / np.max(audio_data)\n",
    "    mfcc_feat = mfcc(audio_data, sample_rate, winlen=0.025, winstep=0.01,\n",
    "                     numcep=13, nfilt=26, nfft=512, lowfreq=0, highfreq=None,\n",
    "                     preemph=0.97, ceplifter=22, appendEnergy=True)\n",
    "    return mfcc_feat \n",
    "\n",
    "def get_mfcc(audio_file):\n",
    "    audio, sample_rate = sf.read(audio_file)\n",
    "    feats = compute_mfcc(audio, sample_rate)\n",
    "    return feats"
   ]
  },
  {
   "cell_type": "code",
   "execution_count": 5,
   "metadata": {},
   "outputs": [
    {
     "data": {
      "text/plain": [
       "(208, 13)"
      ]
     },
     "execution_count": 5,
     "metadata": {},
     "output_type": "execute_result"
    }
   ],
   "source": [
    "audio_file = '../data/LibriSpeech/dev-clean/84/121123/84-121123-0000.flac'\n",
    "get_mfcc(audio_file).shape"
   ]
  },
  {
   "cell_type": "code",
   "execution_count": 6,
   "metadata": {},
   "outputs": [],
   "source": [
    "import sys, os\n",
    "\n",
    "dev_folder = '../data/LibriSpeech/dev-clean'\n",
    "train_folder = '../data/LibriSpeech/train-clean-100'\n",
    "\n",
    "dev_set = []\n",
    "\n",
    "for folder in os.listdir(dev_folder):\n",
    "    if not '.' in folder:\n",
    "        for subfolder in os.listdir(os.path.join(dev_folder, folder)):\n",
    "            if not '.' in subfolder:\n",
    "                txtfilename = folder + '-' + subfolder + '.trans.txt'\n",
    "                txtfile = os.path.join(dev_folder, folder, subfolder, txtfilename)\n",
    "                with open(txtfile) as efile:\n",
    "                    for line in efile:\n",
    "                        words = line.strip().split(' ')\n",
    "                        transcription = ' '.join(words[1:])\n",
    "                        audio_file = words[0] + '.flac'\n",
    "                        audio_features = get_mfcc(os.path.join(dev_folder, folder, subfolder, audio_file))\n",
    "                        dev_set.append((os.path.join(dev_folder, folder, subfolder, audio_file), audio_features, transcription))"
   ]
  },
  {
   "cell_type": "code",
   "execution_count": 7,
   "metadata": {},
   "outputs": [
    {
     "name": "stdout",
     "output_type": "stream",
     "text": [
      "2703\n"
     ]
    },
    {
     "data": {
      "text/plain": [
       "('../data/LibriSpeech/dev-clean/2412/153954/2412-153954-0000.flac',\n",
       " array([[-11.49838216,   1.60501139,  21.13174142, ...,  12.03173776,\n",
       "           3.8652147 ,  -6.13610992],\n",
       "        [-10.02349941,   4.96843193,  22.51133482, ...,  14.41471179,\n",
       "           4.34796544,  -2.40340694],\n",
       "        [ -9.70556227,   1.45525581,  23.29748267, ...,  12.96431629,\n",
       "          -1.12883426,  -0.69579392],\n",
       "        ...,\n",
       "        [-13.48078937, -17.43498983,   9.94559513, ...,  14.14954402,\n",
       "           2.1964683 , -14.83601957],\n",
       "        [-13.82507653, -24.33179551,   0.98778583, ...,  12.90733187,\n",
       "           2.39288016, -10.98188254],\n",
       "        [-13.81705973, -30.73240772,  -7.01409588, ...,  14.65027153,\n",
       "          -3.18946957,  -7.84306927]]),\n",
       " 'SHORTLY AFTER PASSING ONE OF THESE CHAPELS WE CAME SUDDENLY UPON A VILLAGE WHICH STARTED UP OUT OF THE MIST AND I WAS ALARMED LEST I SHOULD BE MADE AN OBJECT OF CURIOSITY OR DISLIKE')"
      ]
     },
     "execution_count": 7,
     "metadata": {},
     "output_type": "execute_result"
    }
   ],
   "source": [
    "import pickle\n",
    "\n",
    "pickle.dump(dev_set, open('../data/dev_processed-13.p', 'wb'))\n",
    "print(len(dev_set))\n",
    "dev_set[0]"
   ]
  },
  {
   "cell_type": "code",
   "execution_count": null,
   "metadata": {},
   "outputs": [],
   "source": [
    "train_set = []\n",
    "\n",
    "for folder in os.listdir(train_folder):\n",
    "    if not '.' in folder:\n",
    "        for subfolder in os.listdir(os.path.join(train_folder, folder)):\n",
    "            if not '.' in subfolder:\n",
    "                txtfilename = folder + '-' + subfolder + '.trans.txt'\n",
    "                txtfile = os.path.join(train_folder, folder, subfolder, txtfilename)\n",
    "                with open(txtfile) as efile:\n",
    "                    for line in efile:\n",
    "                        words = line.strip().split(' ')\n",
    "                        transcription = ' '.join(words[1:])\n",
    "                        audio_file = words[0] + '.flac'\n",
    "                        audio_features = get_mfcc(os.path.join(train_folder, folder, subfolder, audio_file))\n",
    "                        train_set.append((os.path.join(train_folder, folder, subfolder, audio_file), audio_features, transcription))"
   ]
  },
  {
   "cell_type": "code",
   "execution_count": 5,
   "metadata": {},
   "outputs": [
    {
     "ename": "OSError",
     "evalue": "[Errno 28] No space left on device",
     "output_type": "error",
     "traceback": [
      "\u001b[0;31m---------------------------------------------------------------------------\u001b[0m",
      "\u001b[0;31mOSError\u001b[0m                                   Traceback (most recent call last)",
      "\u001b[0;32m<ipython-input-5-55ea91821f99>\u001b[0m in \u001b[0;36m<module>\u001b[0;34m\u001b[0m\n\u001b[1;32m      1\u001b[0m \u001b[0;32mimport\u001b[0m \u001b[0mpickle\u001b[0m\u001b[0;34m\u001b[0m\u001b[0;34m\u001b[0m\u001b[0m\n\u001b[1;32m      2\u001b[0m \u001b[0;34m\u001b[0m\u001b[0m\n\u001b[0;32m----> 3\u001b[0;31m \u001b[0mpickle\u001b[0m\u001b[0;34m.\u001b[0m\u001b[0mdump\u001b[0m\u001b[0;34m(\u001b[0m\u001b[0mtrain_set\u001b[0m\u001b[0;34m,\u001b[0m \u001b[0mopen\u001b[0m\u001b[0;34m(\u001b[0m\u001b[0;34m'../data/train_processed_100.p'\u001b[0m\u001b[0;34m,\u001b[0m \u001b[0;34m'wb'\u001b[0m\u001b[0;34m)\u001b[0m\u001b[0;34m)\u001b[0m\u001b[0;34m\u001b[0m\u001b[0;34m\u001b[0m\u001b[0m\n\u001b[0m\u001b[1;32m      4\u001b[0m \u001b[0mprint\u001b[0m\u001b[0;34m(\u001b[0m\u001b[0mlen\u001b[0m\u001b[0;34m(\u001b[0m\u001b[0mtrain_set\u001b[0m\u001b[0;34m)\u001b[0m\u001b[0;34m)\u001b[0m\u001b[0;34m\u001b[0m\u001b[0;34m\u001b[0m\u001b[0m\n\u001b[1;32m      5\u001b[0m \u001b[0mtrain_set\u001b[0m\u001b[0;34m[\u001b[0m\u001b[0;36m0\u001b[0m\u001b[0;34m]\u001b[0m\u001b[0;34m\u001b[0m\u001b[0;34m\u001b[0m\u001b[0m\n",
      "\u001b[0;31mOSError\u001b[0m: [Errno 28] No space left on device"
     ]
    }
   ],
   "source": [
    "import pickle\n",
    "\n",
    "pickle.dump(train_set, open('../data/train_processed_100.p', 'wb'))\n",
    "print(len(train_set))\n",
    "train_set[0]"
   ]
  },
  {
   "cell_type": "code",
   "execution_count": 74,
   "metadata": {},
   "outputs": [
    {
     "name": "stdout",
     "output_type": "stream",
     "text": [
      "Train data statistics\n",
      "\n",
      "Total instances: 28539\n",
      "Max audio sequence size: 2451\n",
      "Min audio sequence size: 140\n",
      "Mean audio sequence size: 1267.6457128841234\n",
      "Max word sequence size: 75\n",
      "Min word sequence size: 2\n",
      "Mean word sequence size: 34.69291145450086\n",
      "\n",
      "Dev data statistics\n",
      "\n",
      "Total instances: 2703\n",
      "Max audio sequence size: 3263\n",
      "Min audio sequence size: 143\n",
      "Mean audio sequence size: 716.3666296707362\n",
      "Max word sequence size: 92\n",
      "Min word sequence size: 1\n",
      "Mean word sequence size: 20.126526082130965\n"
     ]
    }
   ],
   "source": [
    "train_audio_lengths = [len(item[1]) for item in train_set]\n",
    "train_word_lengths = [len(item[2].split(' ')) for item in train_set]\n",
    "\n",
    "dev_audio_lengths = [len(item[1]) for item in dev_set]\n",
    "dev_word_lengths = [len(item[2].split(' ')) for item in dev_set]\n",
    "\n",
    "print('Train data statistics\\n')\n",
    "print('Total instances: {}'.format(len(train_audio_lengths)))\n",
    "print('Max audio sequence size: {}'.format(np.max(train_audio_lengths)))\n",
    "print('Min audio sequence size: {}'.format(np.min(train_audio_lengths)))\n",
    "print('Mean audio sequence size: {}'.format(np.mean(train_audio_lengths)))\n",
    "print('Max word sequence size: {}'.format(np.max(train_word_lengths)))\n",
    "print('Min word sequence size: {}'.format(np.min(train_word_lengths)))\n",
    "print('Mean word sequence size: {}'.format(np.mean(train_word_lengths)))\n",
    "\n",
    "print('\\nDev data statistics\\n')\n",
    "print('Total instances: {}'.format(len(dev_audio_lengths)))\n",
    "print('Max audio sequence size: {}'.format(np.max(dev_audio_lengths)))\n",
    "print('Min audio sequence size: {}'.format(np.min(dev_audio_lengths)))\n",
    "print('Mean audio sequence size: {}'.format(np.mean(dev_audio_lengths)))\n",
    "print('Max word sequence size: {}'.format(np.max(dev_word_lengths)))\n",
    "print('Min word sequence size: {}'.format(np.min(dev_word_lengths)))\n",
    "print('Mean word sequence size: {}'.format(np.mean(dev_word_lengths)))"
   ]
  },
  {
   "cell_type": "code",
   "execution_count": 73,
   "metadata": {},
   "outputs": [
    {
     "data": {
      "image/png": "[encoded data removed]",
      "text/plain": [
       "<Figure size 432x288 with 1 Axes>"
      ]
     },
     "metadata": {
      "needs_background": "light"
     },
     "output_type": "display_data"
    }
   ],
   "source": [
    "import matplotlib.pyplot as plt\n",
    "\n",
    "zipped_train = sorted(zip(train_audio_lengths, train_word_lengths))\n",
    "zipped_dev = sorted(zip(dev_audio_lengths, dev_word_lengths))\n",
    "\n",
    "x = range(len(train_audio_lengths));\n",
    "y = [item[0] for item in zipped_train]\n",
    "z = [item[1] for item in zipped_train]\n",
    "plt.plot(y, z)\n",
    "plt.xlabel('Size of audio sequence')\n",
    "plt.ylabel('Size of word sequence')\n",
    "plt.title('Audio vs word size in train')\n",
    "plt.show()"
   ]
  },
  {
   "cell_type": "code",
   "execution_count": 72,
   "metadata": {},
   "outputs": [
    {
     "data": {
      "image/png": "[encoded data removed]",
      "text/plain": [
       "<Figure size 432x288 with 1 Axes>"
      ]
     },
     "metadata": {
      "needs_background": "light"
     },
     "output_type": "display_data"
    }
   ],
   "source": [
    "x = range(len(dev_audio_lengths));\n",
    "y = [item[0] for item in zipped_dev]\n",
    "z = [item[1] for item in zipped_dev]\n",
    "plt.plot(y, z)\n",
    "plt.xlabel('Size of audio sequence')\n",
    "plt.ylabel('Size of word sequence')\n",
    "plt.title('Audio vs word size in dev')\n",
    "plt.show()"
   ]
  },
  {
   "cell_type": "code",
   "execution_count": 1,
   "metadata": {},
   "outputs": [
    {
     "name": "stderr",
     "output_type": "stream",
     "text": [
      "100%|██████████| 2866/2866 [00:01<00:00, 1656.15it/s]\n"
     ]
    }
   ],
   "source": [
    "import os\n",
    "from tqdm import tqdm\n",
    "\n",
    "all_transcriptions = open('/Users/subendhu/Documents/amazon_int_2/data/LibriSpeech/all_transcriptions.txt', 'w')\n",
    "all_files = []\n",
    "for split in ['dev-clean', 'test-clean', 'train-clean-100', 'train-clean-360']:\n",
    "    rootfolder = '/Users/subendhu/Documents/amazon_int_2/data/LibriSpeech/' + split\n",
    "    for folder in os.listdir(rootfolder):\n",
    "        if '.' not in folder:\n",
    "            for subfolder in os.listdir(os.path.join(rootfolder, folder)):\n",
    "                if '.' not in subfolder:\n",
    "                    txtfilename = folder + '-' + subfolder + '.trans.txt'\n",
    "                    txtfile = os.path.join(rootfolder, folder, subfolder, txtfilename)\n",
    "                    all_files.append(txtfile)\n",
    "\n",
    "for txtfile in tqdm(all_files):\n",
    "    with open(txtfile) as t_in:\n",
    "        for line in t_in:\n",
    "            all_transcriptions.write(' '.join(line.strip().split(' ')[1:]) + '\\n')\n",
    "all_transcriptions.close()               "
   ]
  },
  {
   "cell_type": "code",
   "execution_count": 8,
   "metadata": {},
   "outputs": [
    {
     "name": "stderr",
     "output_type": "stream",
     "text": [
      "100%|██████████| 2866/2866 [06:44<00:00,  7.09it/s]\n"
     ]
    }
   ],
   "source": [
    "all_transcriptions = open('/Users/subendhu/Documents/amazon_int_2/data/LibriSpeech/all_transcriptions.txt', 'w')\n",
    "all_files = []\n",
    "for split in ['dev-clean', 'test-clean', 'train-clean-100', 'train-clean-360']:\n",
    "    rootfolder = '/Users/subendhu/Documents/amazon_int_2/data/LibriSpeech/' + split\n",
    "    for folder in os.listdir(rootfolder):\n",
    "        if '.' not in folder:\n",
    "            for subfolder in os.listdir(os.path.join(rootfolder, folder)):\n",
    "                if '.' not in subfolder:\n",
    "                    txtfilename = folder + '-' + subfolder + '.trans.'\n",
    "                    txtfile = os.path.join(rootfolder, folder, subfolder, txtfilename)\n",
    "                    all_files.append(txtfile)\n",
    "\n",
    "for txtfile in tqdm(all_files):\n",
    "    with open(txtfile + 'txt') as orig:\n",
    "        with open(txtfile + 'keys.txt', 'w') as key:\n",
    "            with open(txtfile + 'sent.txt', 'w') as sent:\n",
    "                for line in orig:\n",
    "                    words = line.strip().split(' ')\n",
    "                    key.write(words[0] + '\\n')\n",
    "                    sent.write(' '.join(words[1:]) + '\\n')\n",
    "    command = 'subword-nmt apply-bpe -c /Users/subendhu/Documents/amazon_int_2/data/LibriSpeech/all_transcriptions.codes < '+ txtfile + 'sent.txt' + ' > ' + txtfile + 'sent.bpe.txt'\n",
    "    os.system(command) \n",
    "    with open(txtfile + 'sent.bpe.txt') as bpe_sent:\n",
    "        with open(txtfile + 'keys.txt') as key:\n",
    "            with open(txtfile + 'bpe.txt', 'w') as bpe:\n",
    "                for line in bpe_sent:\n",
    "                    key_line = key.readline().strip() + ' '\n",
    "                    bpe.write(key_line + line)   \n"
   ]
  },
  {
   "cell_type": "code",
   "execution_count": 49,
   "metadata": {},
   "outputs": [
    {
     "name": "stdout",
     "output_type": "stream",
     "text": [
      "[1, 2, 3, 4] [1, 2, 3, 4]\n",
      "[2, 5, 6, 0] [2, 5, 6]\n",
      "0.8582656552868946\n"
     ]
    }
   ],
   "source": [
    "import mxnet as mx\n",
    "import numpy as np\n",
    "import nltk\n",
    "\n",
    "s1 = mx.nd.array([[1,2,3,4], [2,5,6,0]])\n",
    "l1 = mx.nd.array([4,4])\n",
    "s2 = mx.nd.array([[1,2,3,4], [2,5,6,0]])\n",
    "l2 = mx.nd.array([4,3])\n",
    "\n",
    "s1 = mx.nd.cast(s1, dtype='int32')\n",
    "l1 = mx.nd.cast(l1, dtype='int32')\n",
    "s2 = mx.nd.cast(s2, dtype='int32')\n",
    "l2 = mx.nd.cast(l2, dtype='int32')\n",
    "\n",
    "scores = []\n",
    "for i in range(len(s1)):\n",
    "    sent1 = [c.asscalar() for c in s1[i][:l1[i].asscalar()]]\n",
    "    sent2 = [c.asscalar() for c in s2[i][:l2[i].asscalar()]]\n",
    "    print(sent1, sent2)\n",
    "    max_length = min(len(sent1), len(sent2))\n",
    "    if max_length == 2:\n",
    "        weights = [1.0/2]*2\n",
    "    elif max_length == 1:\n",
    "        weights = [1]\n",
    "    elif max_length == 3:\n",
    "        weights = [1.0/3]*3\n",
    "    else:\n",
    "        weights = weights = [1.0/4]*4\n",
    "    scores.append(nltk.translate.bleu_score.sentence_bleu([sent1], sent2, weights))\n",
    "print(np.mean(scores))"
   ]
  },
  {
   "cell_type": "code",
   "execution_count": null,
   "metadata": {},
   "outputs": [],
   "source": []
  }
 ],
 "metadata": {
  "kernelspec": {
   "display_name": "Python 3",
   "language": "python",
   "name": "python3"
  },
  "language_info": {
   "codemirror_mode": {
    "name": "ipython",
    "version": 3
   },
   "file_extension": ".py",
   "mimetype": "text/x-python",
   "name": "python",
   "nbconvert_exporter": "python",
   "pygments_lexer": "ipython3",
   "version": "3.7.5"
  }
 },
 "nbformat": 4,
 "nbformat_minor": 2
}
